{
 "cells": [
  {
   "cell_type": "code",
   "execution_count": null,
   "id": "3142e0b7-7645-4e2f-b1d8-082240d76a7f",
   "metadata": {},
   "outputs": [],
   "source": [
    "import Get_data"
   ]
  },
  {
   "cell_type": "code",
   "execution_count": null,
   "id": "4e619a9a-bfc0-4d2c-b077-cc58d4760ad8",
   "metadata": {},
   "outputs": [],
   "source": [
    "train_dir = Get_data.IMAGE_PATH / \"train\"\n",
    "test_dir = Get_data.IMAGE_PATH / \"test\""
   ]
  },
  {
   "cell_type": "code",
   "execution_count": null,
   "id": "191d795b-2b88-4b13-a360-242087e63358",
   "metadata": {},
   "outputs": [],
   "source": [
    "from torchvision import transforms \n",
    "train_transform = transforms.Compose([\n",
    "    transforms.Resize(size=(64,64)),\n",
    "    transforms.RandomHorizontalFlip(p=0.5),\n",
    "    transforms.TrivialAugmentWide(num_magnitude_bins=31),\n",
    "    transforms.ToTensor()\n",
    "    ])\n",
    "test_transform = transforms.Compose([\n",
    "    transforms.Resize(size=(64,64)),    \n",
    "    transforms.ToTensor()\n",
    "    ])"
   ]
  },
  {
   "cell_type": "code",
   "execution_count": null,
   "id": "d3dd1cfc-9fff-4316-a1e4-3a72d3eb4491",
   "metadata": {},
   "outputs": [],
   "source": [
    "from Functions import data_setup\n",
    "from data_setup import create_dataloaders\n",
    "train_dataloader, test_dataloader , class_names = data_setup.create_dataloaders(train_dir = train_dir,\n",
    "                                                                       test_dir = test_dir,\n",
    "                                                                       train_transform = train_transform,\n",
    "                                                                       test_transform = test_transform,\n",
    "                                                                       batch_size = 32,\n",
    "                                                                       num_workers = 2)"
   ]
  },
  {
   "cell_type": "code",
   "execution_count": null,
   "id": "189083fd-2a82-4c43-b4fe-f5e970d6bcba",
   "metadata": {},
   "outputs": [],
   "source": [
    "import torch \n",
    "from Functions import model_builder"
   ]
  },
  {
   "cell_type": "code",
   "execution_count": null,
   "id": "971c2fa5-4d17-4987-96a6-3c76b6821c69",
   "metadata": {},
   "outputs": [],
   "source": [
    "device = \"cuda\" if torch.cuda.is_available() else \"cpu\"\n",
    "torch.manual_seed(0)\n",
    "model0 = model_builder.TinyVGG(input_shape=3,\n",
    "                 hidden_units=10,\n",
    "                 output_shape=len(class_names)\n",
    "                ).to(device)"
   ]
  },
  {
   "cell_type": "code",
   "execution_count": null,
   "id": "4a9a5365-aa04-4f2a-b65f-eab60941e9e7",
   "metadata": {},
   "outputs": [],
   "source": [
    "loss_fn = torch.nn.CrossEntropyLoss()\n",
    "optimizer = torch.optim.Adam(model0.parameters(),\n",
    "                             lr=0.001)\n"
   ]
  },
  {
   "cell_type": "code",
   "execution_count": null,
   "id": "4d884876-94e8-4d71-b3fb-153dab9d20b1",
   "metadata": {},
   "outputs": [],
   "source": [
    "from Functions import engine \n",
    "engine.train(model=model0,\n",
    "             train_dataloader=train_dataloader,\n",
    "             test_dataloader=test_dataloader,\n",
    "             loss_func=loss_fn,\n",
    "             optimizer=optimizer,\n",
    "             epochs=5,\n",
    "             device=device\n",
    "            )"
   ]
  },
  {
   "cell_type": "code",
   "execution_count": null,
   "id": "70b3d58a-6046-4e9c-989c-0e258cebd5a9",
   "metadata": {},
   "outputs": [],
   "source": [
    "import utils\n",
    "utils.save_model(model=model0,\n",
    "                 target_dir= \"D:\\PROJECT\\MODELS\",\n",
    "                 model_name= \"image_classfication_TinyVGG_model.pth\")\n",
    "\n"
   ]
  }
 ],
 "metadata": {
  "kernelspec": {
   "display_name": "Python 3 (ipykernel)",
   "language": "python",
   "name": "python3"
  },
  "language_info": {
   "codemirror_mode": {
    "name": "ipython",
    "version": 3
   },
   "file_extension": ".py",
   "mimetype": "text/x-python",
   "name": "python",
   "nbconvert_exporter": "python",
   "pygments_lexer": "ipython3",
   "version": "3.10.7"
  }
 },
 "nbformat": 4,
 "nbformat_minor": 5
}
